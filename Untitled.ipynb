{
 "cells": [
  {
   "cell_type": "code",
   "execution_count": 1,
   "metadata": {},
   "outputs": [],
   "source": [
    "import pandas as pd\n",
    "import numpy as np"
   ]
  },
  {
   "cell_type": "code",
   "execution_count": 41,
   "metadata": {},
   "outputs": [
    {
     "data": {
      "text/plain": [
       "array([0, 0, 0, ..., 0, 0, 0], dtype=int64)"
      ]
     },
     "execution_count": 41,
     "metadata": {},
     "output_type": "execute_result"
    }
   ],
   "source": [
    "y = pd.read_csv(\"Target.csv\")\n",
    "x = pd.read_csv(\"XsAll.csv\")\n",
    "x.columns\n",
    "y.values.ravel()"
   ]
  },
  {
   "cell_type": "code",
   "execution_count": 34,
   "metadata": {},
   "outputs": [
    {
     "name": "stdout",
     "output_type": "stream",
     "text": [
      "[(1.0, 'V98'), (1.0, 'V96'), (1.0, 'V95'), (1.0, 'V92'), (1.0, 'V90'), (1.0, 'V89'), (1.0, 'V88'), (1.0, 'V87'), (1.0, 'V86'), (1.0, 'V85'), (1.0, 'V82'), (1.0, 'V8'), (1.0, 'V79'), (1.0, 'V78'), (1.0, 'V74'), (1.0, 'V73'), (1.0, 'V72'), (1.0, 'V70'), (1.0, 'V7'), (1.0, 'V68'), (1.0, 'V67'), (1.0, 'V65'), (1.0, 'V61'), (1.0, 'V6'), (1.0, 'V58'), (1.0, 'V57'), (1.0, 'V52'), (1.0, 'V51'), (1.0, 'V50'), (1.0, 'V49'), (1.0, 'V48'), (1.0, 'V46'), (1.0, 'V45'), (1.0, 'V34'), (1.0, 'V32'), (1.0, 'V31'), (1.0, 'V30'), (1.0, 'V28'), (1.0, 'V27'), (1.0, 'V26'), (1.0, 'V25'), (1.0, 'V24'), (1.0, 'V19'), (1.0, 'V13'), (1.0, 'V128'), (1.0, 'V127'), (1.0, 'V120'), (1.0, 'V12'), (1.0, 'V115'), (1.0, 'V114'), (1.0, 'V113'), (1.0, 'V112'), (1.0, 'V110'), (1.0, 'V109'), (1.0, 'V104'), (1.0, 'V103'), (1.0, 'V101'), (1.0, 'V100'), (1.0, 'V10'), (0.999, 'V99'), (0.999, 'V97'), (0.999, 'V94'), (0.999, 'V91'), (0.999, 'V9'), (0.999, 'V83'), (0.999, 'V81'), (0.999, 'V77'), (0.999, 'V76'), (0.999, 'V75'), (0.999, 'V71'), (0.999, 'V66'), (0.999, 'V63'), (0.999, 'V60'), (0.999, 'V59'), (0.999, 'V55'), (0.999, 'V54'), (0.999, 'V53'), (0.999, 'V5'), (0.999, 'V47'), (0.999, 'V44'), (0.999, 'V42'), (0.999, 'V41'), (0.999, 'V40'), (0.999, 'V4'), (0.999, 'V39'), (0.999, 'V38'), (0.999, 'V37'), (0.999, 'V35'), (0.999, 'V3'), (0.999, 'V23'), (0.999, 'V22'), (0.999, 'V21'), (0.999, 'V20'), (0.999, 'V18'), (0.999, 'V17'), (0.999, 'V16'), (0.999, 'V15'), (0.999, 'V14'), (0.999, 'V126'), (0.999, 'V125'), (0.999, 'V124'), (0.999, 'V123'), (0.999, 'V122'), (0.999, 'V121'), (0.999, 'V119'), (0.999, 'V118'), (0.999, 'V107'), (0.999, 'V106'), (0.999, 'V105'), (0.998, 'V84'), (0.998, 'V69'), (0.998, 'V64'), (0.998, 'V62'), (0.998, 'V56'), (0.998, 'V43'), (0.998, 'V33'), (0.998, 'V29'), (0.998, 'V117'), (0.998, 'V116'), (0.998, 'V111'), (0.998, 'V11'), (0.998, 'V108'), (0.998, 'V102'), (0.997, 'V93'), (0.997, 'V80'), (0.996, 'V36')]\n"
     ]
    }
   ],
   "source": [
    "from sklearn.cross_validation import cross_val_score, ShuffleSplit\n",
    "from sklearn.datasets import load_boston\n",
    "from sklearn.ensemble import RandomForestRegressor\n",
    "\n",
    "#Load boston housing dataset as an example\n",
    "# boston = load_boston()\n",
    "# X = boston[\"data\"]\n",
    "# Y = boston[\"target\"]\n",
    "names = x.columns\n",
    "\n",
    "rf = RandomForestRegressor(n_estimators=20, max_depth=4)\n",
    "scores = []\n",
    "for i in range(x.shape[1]):\n",
    "     score = cross_val_score(rf, x, y.values.ravel(), scoring=\"r2\",\n",
    "                              cv=ShuffleSplit(len(X), 3, .3))\n",
    "     scores.append((round(np.mean(score), 3), names[i]))\n",
    "print (sorted(scores, reverse=True))"
   ]
  },
  {
   "cell_type": "code",
   "execution_count": 45,
   "metadata": {},
   "outputs": [
    {
     "name": "stderr",
     "output_type": "stream",
     "text": [
      "D:\\ProgramData\\Anaconda3\\lib\\site-packages\\sklearn\\utils\\validation.py:578: DataConversionWarning: A column-vector y was passed when a 1d array was expected. Please change the shape of y to (n_samples, ), for example using ravel().\n",
      "  y = column_or_1d(y, warn=True)\n"
     ]
    },
    {
     "name": "stdout",
     "output_type": "stream",
     "text": [
      "features sorted by their rank:\n",
      "[(1, 'V121'), (1, 'V124'), (1, 'V125'), (1, 'V49'), (1, 'V53'), (1, 'V67'), (1, 'V68'), (1, 'V70'), (1, 'V74'), (1, 'V97'), (2, 'V76'), (3, 'V19'), (4, 'V79'), (5, 'V109'), (6, 'V46'), (7, 'V127'), (8, 'V100'), (9, 'V43'), (10, 'V56'), (11, 'V5'), (12, 'V77'), (13, 'V17'), (14, 'V110'), (15, 'V31'), (16, 'V37'), (17, 'V38'), (18, 'V32'), (19, 'V83'), (20, 'V35'), (21, 'V13'), (22, 'V88'), (23, 'V94'), (24, 'V16'), (25, 'V73'), (26, 'V8'), (27, 'V85'), (28, 'V44'), (29, 'V41'), (30, 'V55'), (31, 'V61'), (32, 'V40'), (33, 'V34'), (34, 'V92'), (35, 'V11'), (36, 'V82'), (37, 'V20'), (38, 'V113'), (39, 'V112'), (40, 'V52'), (41, 'V95'), (42, 'V4'), (43, 'V103'), (44, 'V106'), (45, 'V80'), (46, 'V122'), (47, 'V10'), (48, 'V128'), (49, 'V86'), (50, 'V65'), (51, 'V119'), (52, 'V23'), (53, 'V29'), (54, 'V26'), (55, 'V64'), (56, 'V62'), (57, 'V116'), (58, 'V22'), (59, 'V71'), (60, 'V14'), (61, 'V25'), (62, 'V59'), (63, 'V101'), (64, 'V89'), (65, 'V91'), (66, 'V50'), (67, 'V58'), (68, 'V47'), (69, 'V28'), (70, 'V104'), (71, 'V93'), (72, 'V115'), (73, 'V87'), (74, 'V18'), (75, 'V78'), (76, 'V98'), (77, 'V48'), (78, 'V69'), (79, 'V120'), (80, 'V123'), (81, 'V99'), (82, 'V45'), (83, 'V51'), (84, 'V105'), (85, 'V36'), (86, 'V66'), (87, 'V81'), (88, 'V96'), (89, 'V39'), (90, 'V7'), (91, 'V90'), (92, 'V63'), (93, 'V117'), (94, 'V30'), (95, 'V57'), (96, 'V107'), (97, 'V3'), (98, 'V102'), (99, 'V75'), (100, 'V6'), (101, 'V9'), (102, 'V27'), (103, 'V33'), (104, 'V72'), (105, 'V84'), (106, 'V42'), (107, 'V126'), (108, 'V60'), (109, 'V114'), (110, 'V12'), (111, 'V111'), (112, 'V108'), (113, 'V21'), (114, 'V54'), (115, 'V24'), (116, 'V15'), (117, 'V118')]\n"
     ]
    }
   ],
   "source": [
    "from sklearn.datasets import load_iris \n",
    "from sklearn.feature_selection import SelectKBest \n",
    "from sklearn.feature_selection import chi2 \n",
    "\n",
    "# iris=load_iris() \n",
    "# X,y=iris.data,iris.target \n",
    "# print (X.shape )\n",
    "\n",
    "\n",
    "# X_new=SelectKBest(chi2,k=2).fit_transform(x,y) \n",
    "# print (X_new.shape )\n",
    "\n",
    "\n",
    "\n",
    "from sklearn.feature_selection import RFE \n",
    "from sklearn.linear_model import LinearRegression \n",
    "# from sklearn.datasets import load_boston \n",
    "# boston=load_boston() \n",
    "# X=boston[\"data\"] \n",
    "# Y=boston[\"target\"] \n",
    "# names=boston[\"feature_names\"] \n",
    "names=x.columns\n",
    "\n",
    "\n",
    "lr=LinearRegression() \n",
    "rfe=RFE(lr,n_features_to_select=10)\n",
    "\n",
    "rfe.fit(x,y) \n",
    "print (\"features sorted by their rank:\" )\n",
    "print (sorted(zip(map(lambda x:round(x,4), rfe.ranking_),names)))\n"
   ]
  },
  {
   "cell_type": "code",
   "execution_count": 75,
   "metadata": {
    "scrolled": true
   },
   "outputs": [
    {
     "name": "stdout",
     "output_type": "stream",
     "text": [
      "9\n",
      "10\n",
      "11\n",
      "12\n"
     ]
    }
   ],
   "source": [
    "for i in range(9,13):\n",
    "    print(i)"
   ]
  },
  {
   "cell_type": "code",
   "execution_count": 83,
   "metadata": {},
   "outputs": [
    {
     "name": "stderr",
     "output_type": "stream",
     "text": [
      "D:\\ProgramData\\Anaconda3\\lib\\site-packages\\pandas\\core\\frame.py:6201: FutureWarning: Sorting because non-concatenation axis is not aligned. A future version\n",
      "of pandas will change to not sort by default.\n",
      "\n",
      "To accept the future behavior, pass 'sort=True'.\n",
      "\n",
      "To retain the current behavior and silence the warning, pass sort=False\n",
      "\n",
      "  sort=sort)\n"
     ]
    },
    {
     "name": "stdout",
     "output_type": "stream",
     "text": [
      "  2015.10.01 -- 2015.10.31  Market Demand Statistics  \\\n",
      "2                                                  1   \n",
      "2                                                NaN   \n",
      "2                                                NaN   \n",
      "\n",
      "  2015.11.01 -- 2015.11.30  Market Demand Statistics  \\\n",
      "2                                                NaN   \n",
      "2                                                  1   \n",
      "2                                                NaN   \n",
      "\n",
      "  2015.12.01 -- 2015.12.31  Market Demand Statistics          Unnamed: 1  \\\n",
      "2                                                NaN  Computer software    \n",
      "2                                                NaN  Computer software    \n",
      "2                                                  1  Computer software    \n",
      "\n",
      "  Unnamed: 10 Unnamed: 11 Unnamed: 2 Unnamed: 3 Unnamed: 4 Unnamed: 5  \\\n",
      "2           0          12        186          1          0          0   \n",
      "2           0          17        211          0          0          0   \n",
      "2           0           9        235          0          0          0   \n",
      "\n",
      "  Unnamed: 6 Unnamed: 7 Unnamed: 8 Unnamed: 9  \n",
      "2         13          4          0          0  \n",
      "2         22          6          0          0  \n",
      "2         11          5          0          0  \n"
     ]
    }
   ],
   "source": [
    "import pandas as pd\n",
    "i = 9\n",
    "df = pd.DataFrame()\n",
    "for i in range(10,13):\n",
    "    file = pd.read_excel(str(i) + \".xlsx\")\n",
    "    temp = file.iloc[:,1] == \"Computer software \"\n",
    "#     print(file.loc[temp,:])\n",
    "    df = df.append(file.loc[temp,:])\n",
    "print(df)\n",
    "df.to_excel(\"123.xlsx\")"
   ]
  },
  {
   "cell_type": "code",
   "execution_count": 8,
   "metadata": {},
   "outputs": [],
   "source": [
    "x = pd.read_excel(\"Annex 1 Basic Data of Elderly People.xlsx\")\n",
    "x.to_csv(\"Annex 1 Basic Data of Elderly People.csv\", index=False)"
   ]
  }
 ],
 "metadata": {
  "kernelspec": {
   "display_name": "Python 3",
   "language": "python",
   "name": "python3"
  },
  "language_info": {
   "codemirror_mode": {
    "name": "ipython",
    "version": 3
   },
   "file_extension": ".py",
   "mimetype": "text/x-python",
   "name": "python",
   "nbconvert_exporter": "python",
   "pygments_lexer": "ipython3",
   "version": "3.6.5"
  }
 },
 "nbformat": 4,
 "nbformat_minor": 2
}
